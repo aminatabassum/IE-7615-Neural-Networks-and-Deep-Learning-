{
 "cells": [
  {
   "cell_type": "code",
   "execution_count": 2,
   "metadata": {},
   "outputs": [],
   "source": [
    "import numpy as np \n",
    "import pandas as pd \n",
    "import glob \n",
    "import matplotlib.pyplot as plt \n"
   ]
  },
  {
   "cell_type": "code",
   "execution_count": 3,
   "metadata": {},
   "outputs": [],
   "source": [
    "dataset_path=glob.glob('Dataset/*.csv')"
   ]
  },
  {
   "cell_type": "code",
   "execution_count": 4,
   "metadata": {},
   "outputs": [
    {
     "name": "stdout",
     "output_type": "stream",
     "text": [
      "['Dataset/b1_va3.csv', 'Dataset/b1_raw.csv', 'Dataset/b3_va3.csv', 'Dataset/a2_raw.csv', 'Dataset/c3_raw.csv', 'Dataset/a3_raw.csv', 'Dataset/a2_va3.csv', 'Dataset/c3_va3.csv', 'Dataset/b3_raw.csv', 'Dataset/a1_raw.csv', 'Dataset/c1_va3.csv', 'Dataset/a1_va3.csv', 'Dataset/a3_va3.csv', 'Dataset/c1_raw.csv']\n"
     ]
    }
   ],
   "source": [
    "print(dataset_path)"
   ]
  },
  {
   "cell_type": "code",
   "execution_count": 5,
   "metadata": {},
   "outputs": [],
   "source": [
    "df=pd.DataFrame()\n",
    "files=[]"
   ]
  },
  {
   "cell_type": "code",
   "execution_count": 6,
   "metadata": {},
   "outputs": [],
   "source": [
    "for file in dataset_path:\n",
    "    # read all .csv files\n",
    "    dataframe=pd.read_csv(file,header=0,sep=',')\n",
    "    files.append(dataframe)"
   ]
  },
  {
   "cell_type": "code",
   "execution_count": 7,
   "metadata": {},
   "outputs": [
    {
     "name": "stdout",
     "output_type": "stream",
     "text": [
      "14\n"
     ]
    }
   ],
   "source": [
    "print(len(files))"
   ]
  },
  {
   "cell_type": "code",
   "execution_count": 9,
   "metadata": {},
   "outputs": [
    {
     "name": "stdout",
     "output_type": "stream",
     "text": [
      "           lhx       lhy       lhz       rhx       rhy       rhz        hx  \\\n",
      "0     1.197867  5.502980  2.154376  3.937746  5.555298  2.194409  2.844247   \n",
      "1     1.192058  5.508098  2.154468  3.937706  5.555610  2.194491  2.839868   \n",
      "2     1.186308  5.513601  2.154882  3.937459  5.556025  2.194566  2.835107   \n",
      "3     1.180775  5.519557  2.155479  3.937060  5.556473  2.194650  2.827072   \n",
      "4     1.175917  5.525742  2.156359  3.936461  5.557368  2.194719  2.819219   \n",
      "...        ...       ...       ...       ...       ...       ...       ...   \n",
      "1068  2.193243  4.971101  1.993841  2.755731  4.865422  2.004962  2.732288   \n",
      "1069  2.215592  4.962650  1.994187  2.745145  4.862199  2.001349  2.729993   \n",
      "1070  2.209147  4.971601  1.997903  2.651100  4.879183  2.004121  2.727160   \n",
      "1071  2.204553  4.975955  2.000354  2.587505  4.894502  2.006795  2.724144   \n",
      "1072  2.199439  4.980598  2.003031  2.549979  4.901636  2.009590  2.720113   \n",
      "\n",
      "            hy        hz        sx        sy        sz       lwx       lwy  \\\n",
      "0     1.282464  2.274105  2.693945  3.979356  2.300664  1.309632  5.117686   \n",
      "1     1.282502  2.273562  2.690112  3.980755  2.300256  1.304048  5.119483   \n",
      "2     1.282233  2.273048  2.686677  3.982062  2.299877  1.298797  5.121308   \n",
      "3     1.281816  2.272159  2.683564  3.983273  2.299529  1.294028  5.123456   \n",
      "4     1.281443  2.271338  2.681415  3.984002  2.299279  1.290128  5.125873   \n",
      "...        ...       ...       ...       ...       ...       ...       ...   \n",
      "1068  1.313854  2.222937  2.658267  4.073776  2.252671  1.953721  4.823939   \n",
      "1069  1.313926  2.222615  2.660264  4.073512  2.252215  1.968888  4.820969   \n",
      "1070  1.314059  2.222357  2.662141  4.073353  2.251692  1.952448  4.841721   \n",
      "1071  1.314282  2.222121  2.663200  4.072853  2.251200  1.942240  4.851159   \n",
      "1072  1.314647  2.221931  2.663610  4.068994  2.250450  1.931739  4.860552   \n",
      "\n",
      "           lwz       rwx       rwy       rwz  timestamp phase  \n",
      "0     2.186277  3.868249  5.108600  2.228558    2730074  Rest  \n",
      "1     2.186436  3.867365  5.108905  2.228520    2730104  Rest  \n",
      "2     2.186690  3.866469  5.109274  2.228481    2730138  Rest  \n",
      "3     2.187033  3.865429  5.109667  2.228457    2730172  Rest  \n",
      "4     2.187587  3.864396  5.110392  2.228374    2730207  Rest  \n",
      "...        ...       ...       ...       ...        ...   ...  \n",
      "1068  2.041428  2.882255  4.649452  2.033440    2805876  Rest  \n",
      "1069  2.040729  2.848780  4.658162  2.032789    2805910  Rest  \n",
      "1070  2.045786  2.822177  4.661521  2.034260    2805944  Rest  \n",
      "1071  2.048487  2.799387  4.665112  2.035689    2805976  Rest  \n",
      "1072  2.051425  2.784112  4.664679  2.037293    2806008  Rest  \n",
      "\n",
      "[1073 rows x 20 columns]\n"
     ]
    }
   ],
   "source": [
    "print(files[1])"
   ]
  },
  {
   "cell_type": "code",
   "execution_count": 10,
   "metadata": {},
   "outputs": [
    {
     "name": "stdout",
     "output_type": "stream",
     "text": [
      "             1         2         3         4         5         6         7  \\\n",
      "0     0.000194 -0.000442 -0.000110 -0.000206  0.000130 -0.000048  0.000120   \n",
      "1     0.000254 -0.000530 -0.000124 -0.000151  0.000049 -0.000040  0.000168   \n",
      "2     0.000276 -0.000513 -0.000116 -0.000070 -0.000056 -0.000024  0.000194   \n",
      "3     0.000308 -0.000520 -0.000112 -0.000029 -0.000120 -0.000016  0.000230   \n",
      "4     0.000294 -0.000502 -0.000103 -0.000010 -0.000161 -0.000012  0.000218   \n",
      "...        ...       ...       ...       ...       ...       ...       ...   \n",
      "1064 -0.006885  0.004449  0.000280  0.003986 -0.001037  0.000368 -0.005070   \n",
      "1065 -0.003735  0.002313  0.000073  0.003580 -0.000496  0.000323 -0.002563   \n",
      "1066 -0.001433  0.000635 -0.000163  0.005819 -0.000827  0.000102 -0.000459   \n",
      "1067 -0.000221 -0.000229 -0.000284  0.006273 -0.001105 -0.000114  0.000610   \n",
      "1068  0.000755 -0.000898 -0.000374  0.007346 -0.001687 -0.000352  0.001551   \n",
      "\n",
      "             8         9        10  ...        24        25        26  \\\n",
      "0    -0.000057 -0.000082 -0.000148  ...  0.000003  0.000495  0.000249   \n",
      "1    -0.000143 -0.000094 -0.000109  ...  0.000003  0.000601  0.000164   \n",
      "2    -0.000198 -0.000093 -0.000053  ...  0.000004  0.000594  0.000093   \n",
      "3    -0.000253 -0.000098 -0.000023  ...  0.000002  0.000615  0.000124   \n",
      "4    -0.000281 -0.000095 -0.000004  ...  0.000001  0.000591  0.000162   \n",
      "...        ...       ...       ...  ...       ...       ...       ...   \n",
      "1064  0.003117  0.000587  0.004263  ... -0.000074  0.008202  0.004135   \n",
      "1065  0.001199  0.000208  0.003592  ... -0.000060  0.004394  0.003629   \n",
      "1066 -0.000485 -0.000161  0.003519  ... -0.000053  0.001576  0.005878   \n",
      "1067 -0.001036 -0.000304  0.003177  ... -0.000038  0.000426  0.006371   \n",
      "1068 -0.001689 -0.000446  0.002505  ... -0.000027  0.001232  0.007545   \n",
      "\n",
      "            27        28        29        30        31        32  Phase  \n",
      "0     0.000156  0.000192  0.000018  0.000031  0.000016  0.000025      D  \n",
      "1     0.000240  0.000124  0.000040  0.000036  0.000037  0.000028      D  \n",
      "2     0.000292  0.000063  0.000007  0.000034  0.000016  0.000027      D  \n",
      "3     0.000355  0.000082  0.000011  0.000025  0.000022  0.000018      D  \n",
      "4     0.000368  0.000109  0.000007  0.000014  0.000010  0.000011      D  \n",
      "...        ...       ...       ...       ...       ...       ...    ...  \n",
      "1064  0.005980  0.004280  0.003258  0.000200  0.002088  0.000444      D  \n",
      "1065  0.002837  0.003617  0.001121  0.000199  0.000935  0.000236      D  \n",
      "1066  0.000687  0.003572  0.000841  0.000669  0.000800  0.000087      D  \n",
      "1067  0.001241  0.003238  0.000467  0.000180  0.000379  0.000113      D  \n",
      "1068  0.002336  0.002555  0.000371  0.000389  0.000361  0.000218      D  \n",
      "\n",
      "[1069 rows x 33 columns]\n"
     ]
    }
   ],
   "source": [
    "print(files[0])"
   ]
  },
  {
   "cell_type": "code",
   "execution_count": null,
   "metadata": {},
   "outputs": [],
   "source": []
  },
  {
   "cell_type": "code",
   "execution_count": 9,
   "metadata": {},
   "outputs": [],
   "source": [
    "#concatenate all files in dataframe\n",
    "df=pd.concat(files)"
   ]
  },
  {
   "cell_type": "code",
   "execution_count": 10,
   "metadata": {},
   "outputs": [
    {
     "data": {
      "text/html": [
       "<div>\n",
       "<style scoped>\n",
       "    .dataframe tbody tr th:only-of-type {\n",
       "        vertical-align: middle;\n",
       "    }\n",
       "\n",
       "    .dataframe tbody tr th {\n",
       "        vertical-align: top;\n",
       "    }\n",
       "\n",
       "    .dataframe thead th {\n",
       "        text-align: right;\n",
       "    }\n",
       "</style>\n",
       "<table border=\"1\" class=\"dataframe\">\n",
       "  <thead>\n",
       "    <tr style=\"text-align: right;\">\n",
       "      <th></th>\n",
       "      <th>1</th>\n",
       "      <th>2</th>\n",
       "      <th>3</th>\n",
       "      <th>4</th>\n",
       "      <th>5</th>\n",
       "      <th>6</th>\n",
       "      <th>7</th>\n",
       "      <th>8</th>\n",
       "      <th>9</th>\n",
       "      <th>10</th>\n",
       "      <th>...</th>\n",
       "      <th>sy</th>\n",
       "      <th>sz</th>\n",
       "      <th>lwx</th>\n",
       "      <th>lwy</th>\n",
       "      <th>lwz</th>\n",
       "      <th>rwx</th>\n",
       "      <th>rwy</th>\n",
       "      <th>rwz</th>\n",
       "      <th>timestamp</th>\n",
       "      <th>phase</th>\n",
       "    </tr>\n",
       "  </thead>\n",
       "  <tbody>\n",
       "    <tr>\n",
       "      <th>0</th>\n",
       "      <td>0.000194</td>\n",
       "      <td>-0.000442</td>\n",
       "      <td>-0.000110</td>\n",
       "      <td>-0.000206</td>\n",
       "      <td>0.000130</td>\n",
       "      <td>-0.000048</td>\n",
       "      <td>0.000120</td>\n",
       "      <td>-0.000057</td>\n",
       "      <td>-0.000082</td>\n",
       "      <td>-0.000148</td>\n",
       "      <td>...</td>\n",
       "      <td>NaN</td>\n",
       "      <td>NaN</td>\n",
       "      <td>NaN</td>\n",
       "      <td>NaN</td>\n",
       "      <td>NaN</td>\n",
       "      <td>NaN</td>\n",
       "      <td>NaN</td>\n",
       "      <td>NaN</td>\n",
       "      <td>NaN</td>\n",
       "      <td>NaN</td>\n",
       "    </tr>\n",
       "    <tr>\n",
       "      <th>1</th>\n",
       "      <td>0.000254</td>\n",
       "      <td>-0.000530</td>\n",
       "      <td>-0.000124</td>\n",
       "      <td>-0.000151</td>\n",
       "      <td>0.000049</td>\n",
       "      <td>-0.000040</td>\n",
       "      <td>0.000168</td>\n",
       "      <td>-0.000143</td>\n",
       "      <td>-0.000094</td>\n",
       "      <td>-0.000109</td>\n",
       "      <td>...</td>\n",
       "      <td>NaN</td>\n",
       "      <td>NaN</td>\n",
       "      <td>NaN</td>\n",
       "      <td>NaN</td>\n",
       "      <td>NaN</td>\n",
       "      <td>NaN</td>\n",
       "      <td>NaN</td>\n",
       "      <td>NaN</td>\n",
       "      <td>NaN</td>\n",
       "      <td>NaN</td>\n",
       "    </tr>\n",
       "    <tr>\n",
       "      <th>2</th>\n",
       "      <td>0.000276</td>\n",
       "      <td>-0.000513</td>\n",
       "      <td>-0.000116</td>\n",
       "      <td>-0.000070</td>\n",
       "      <td>-0.000056</td>\n",
       "      <td>-0.000024</td>\n",
       "      <td>0.000194</td>\n",
       "      <td>-0.000198</td>\n",
       "      <td>-0.000093</td>\n",
       "      <td>-0.000053</td>\n",
       "      <td>...</td>\n",
       "      <td>NaN</td>\n",
       "      <td>NaN</td>\n",
       "      <td>NaN</td>\n",
       "      <td>NaN</td>\n",
       "      <td>NaN</td>\n",
       "      <td>NaN</td>\n",
       "      <td>NaN</td>\n",
       "      <td>NaN</td>\n",
       "      <td>NaN</td>\n",
       "      <td>NaN</td>\n",
       "    </tr>\n",
       "    <tr>\n",
       "      <th>3</th>\n",
       "      <td>0.000308</td>\n",
       "      <td>-0.000520</td>\n",
       "      <td>-0.000112</td>\n",
       "      <td>-0.000029</td>\n",
       "      <td>-0.000120</td>\n",
       "      <td>-0.000016</td>\n",
       "      <td>0.000230</td>\n",
       "      <td>-0.000253</td>\n",
       "      <td>-0.000098</td>\n",
       "      <td>-0.000023</td>\n",
       "      <td>...</td>\n",
       "      <td>NaN</td>\n",
       "      <td>NaN</td>\n",
       "      <td>NaN</td>\n",
       "      <td>NaN</td>\n",
       "      <td>NaN</td>\n",
       "      <td>NaN</td>\n",
       "      <td>NaN</td>\n",
       "      <td>NaN</td>\n",
       "      <td>NaN</td>\n",
       "      <td>NaN</td>\n",
       "    </tr>\n",
       "    <tr>\n",
       "      <th>4</th>\n",
       "      <td>0.000294</td>\n",
       "      <td>-0.000502</td>\n",
       "      <td>-0.000103</td>\n",
       "      <td>-0.000010</td>\n",
       "      <td>-0.000161</td>\n",
       "      <td>-0.000012</td>\n",
       "      <td>0.000218</td>\n",
       "      <td>-0.000281</td>\n",
       "      <td>-0.000095</td>\n",
       "      <td>-0.000004</td>\n",
       "      <td>...</td>\n",
       "      <td>NaN</td>\n",
       "      <td>NaN</td>\n",
       "      <td>NaN</td>\n",
       "      <td>NaN</td>\n",
       "      <td>NaN</td>\n",
       "      <td>NaN</td>\n",
       "      <td>NaN</td>\n",
       "      <td>NaN</td>\n",
       "      <td>NaN</td>\n",
       "      <td>NaN</td>\n",
       "    </tr>\n",
       "  </tbody>\n",
       "</table>\n",
       "<p>5 rows × 53 columns</p>\n",
       "</div>"
      ],
      "text/plain": [
       "          1         2         3         4         5         6         7  \\\n",
       "0  0.000194 -0.000442 -0.000110 -0.000206  0.000130 -0.000048  0.000120   \n",
       "1  0.000254 -0.000530 -0.000124 -0.000151  0.000049 -0.000040  0.000168   \n",
       "2  0.000276 -0.000513 -0.000116 -0.000070 -0.000056 -0.000024  0.000194   \n",
       "3  0.000308 -0.000520 -0.000112 -0.000029 -0.000120 -0.000016  0.000230   \n",
       "4  0.000294 -0.000502 -0.000103 -0.000010 -0.000161 -0.000012  0.000218   \n",
       "\n",
       "          8         9        10  ...  sy  sz  lwx  lwy  lwz  rwx  rwy  rwz  \\\n",
       "0 -0.000057 -0.000082 -0.000148  ... NaN NaN  NaN  NaN  NaN  NaN  NaN  NaN   \n",
       "1 -0.000143 -0.000094 -0.000109  ... NaN NaN  NaN  NaN  NaN  NaN  NaN  NaN   \n",
       "2 -0.000198 -0.000093 -0.000053  ... NaN NaN  NaN  NaN  NaN  NaN  NaN  NaN   \n",
       "3 -0.000253 -0.000098 -0.000023  ... NaN NaN  NaN  NaN  NaN  NaN  NaN  NaN   \n",
       "4 -0.000281 -0.000095 -0.000004  ... NaN NaN  NaN  NaN  NaN  NaN  NaN  NaN   \n",
       "\n",
       "   timestamp  phase  \n",
       "0        NaN    NaN  \n",
       "1        NaN    NaN  \n",
       "2        NaN    NaN  \n",
       "3        NaN    NaN  \n",
       "4        NaN    NaN  \n",
       "\n",
       "[5 rows x 53 columns]"
      ]
     },
     "execution_count": 10,
     "metadata": {},
     "output_type": "execute_result"
    }
   ],
   "source": [
    "df.head()"
   ]
  },
  {
   "cell_type": "code",
   "execution_count": 11,
   "metadata": {},
   "outputs": [
    {
     "data": {
      "text/plain": [
       "19774"
      ]
     },
     "execution_count": 11,
     "metadata": {},
     "output_type": "execute_result"
    }
   ],
   "source": [
    "len(df)"
   ]
  },
  {
   "cell_type": "code",
   "execution_count": 12,
   "metadata": {},
   "outputs": [
    {
     "data": {
      "text/plain": [
       "(19774, 53)"
      ]
     },
     "execution_count": 12,
     "metadata": {},
     "output_type": "execute_result"
    }
   ],
   "source": [
    "df.shape"
   ]
  },
  {
   "cell_type": "code",
   "execution_count": 16,
   "metadata": {},
   "outputs": [
    {
     "data": {
      "text/plain": [
       "Index(['1', '2', '3', '4', '5', '6', '7', '8', '9', '10', '11', '12', '13',\n",
       "       '14', '15', '16', '17', '18', '19', '20', '21', '22', '23', '24', '25',\n",
       "       '26', '27', '28', '29', '30', '31', '32', 'Phase', 'lhx', 'lhy', 'lhz',\n",
       "       'rhx', 'rhy', 'rhz', 'hx', 'hy', 'hz', 'sx', 'sy', 'sz', 'lwx', 'lwy',\n",
       "       'lwz', 'rwx', 'rwy', 'rwz', 'timestamp', 'phase'],\n",
       "      dtype='object')"
      ]
     },
     "execution_count": 16,
     "metadata": {},
     "output_type": "execute_result"
    }
   ],
   "source": [
    "df.columns"
   ]
  },
  {
   "cell_type": "code",
   "execution_count": null,
   "metadata": {},
   "outputs": [],
   "source": []
  }
 ],
 "metadata": {
  "kernelspec": {
   "display_name": "Python 3",
   "language": "python",
   "name": "python3"
  },
  "language_info": {
   "codemirror_mode": {
    "name": "ipython",
    "version": 3
   },
   "file_extension": ".py",
   "mimetype": "text/x-python",
   "name": "python",
   "nbconvert_exporter": "python",
   "pygments_lexer": "ipython3",
   "version": "3.8.10"
  },
  "orig_nbformat": 4
 },
 "nbformat": 4,
 "nbformat_minor": 2
}
